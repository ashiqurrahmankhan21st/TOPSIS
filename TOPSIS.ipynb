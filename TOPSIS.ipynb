{
 "cells": [
  {
   "cell_type": "code",
   "execution_count": 81,
   "id": "9dd3b58c",
   "metadata": {},
   "outputs": [],
   "source": [
    "import pandas as pd\n",
    "import numpy as np\n",
    "import seaborn as sns\n",
    "from imblearn.over_sampling import SMOTE, ADASYN\n",
    "from sklearn import preprocessing\n",
    "from sklearn.neighbors import KNeighborsClassifier\n",
    "from sklearn.model_selection import train_test_split\n",
    "from sklearn.metrics import accuracy_score\n",
    "from collections import Counter\n",
    "from sklearn.datasets import make_classification\n",
    "from sklearn.model_selection import cross_val_score\n",
    "from imblearn.over_sampling import SMOTE\n",
    "from imblearn.over_sampling import RandomOverSampler\n",
    "from sklearn.svm import SVC\n",
    "from sklearn.neighbors import KernelDensity\n",
    "import warnings\n",
    "warnings.filterwarnings(\"ignore\")"
   ]
  },
  {
   "cell_type": "code",
   "execution_count": 35,
   "id": "8603da9e",
   "metadata": {},
   "outputs": [
    {
     "data": {
      "text/html": [
       "<div>\n",
       "<style scoped>\n",
       "    .dataframe tbody tr th:only-of-type {\n",
       "        vertical-align: middle;\n",
       "    }\n",
       "\n",
       "    .dataframe tbody tr th {\n",
       "        vertical-align: top;\n",
       "    }\n",
       "\n",
       "    .dataframe thead th {\n",
       "        text-align: right;\n",
       "    }\n",
       "</style>\n",
       "<table border=\"1\" class=\"dataframe\">\n",
       "  <thead>\n",
       "    <tr style=\"text-align: right;\">\n",
       "      <th></th>\n",
       "      <th>Annual\\nRequirement</th>\n",
       "      <th>Average\\nUnit\\nCost\\n(Dollars)</th>\n",
       "      <th>Lead\\nTime\\n(Weeks)</th>\n",
       "    </tr>\n",
       "  </thead>\n",
       "  <tbody>\n",
       "    <tr>\n",
       "      <th>1</th>\n",
       "      <td>44460</td>\n",
       "      <td>39.25</td>\n",
       "      <td>12</td>\n",
       "    </tr>\n",
       "    <tr>\n",
       "      <th>2</th>\n",
       "      <td>89600</td>\n",
       "      <td>2.49</td>\n",
       "      <td>12</td>\n",
       "    </tr>\n",
       "    <tr>\n",
       "      <th>3</th>\n",
       "      <td>28200</td>\n",
       "      <td>81.45</td>\n",
       "      <td>6</td>\n",
       "    </tr>\n",
       "    <tr>\n",
       "      <th>4</th>\n",
       "      <td>113544</td>\n",
       "      <td>25.32</td>\n",
       "      <td>6</td>\n",
       "    </tr>\n",
       "    <tr>\n",
       "      <th>5</th>\n",
       "      <td>20400</td>\n",
       "      <td>38.10</td>\n",
       "      <td>12</td>\n",
       "    </tr>\n",
       "  </tbody>\n",
       "</table>\n",
       "</div>"
      ],
      "text/plain": [
       "   Annual\\nRequirement  Average\\nUnit\\nCost\\n(Dollars)  Lead\\nTime\\n(Weeks)\n",
       "1                44460                           39.25                   12\n",
       "2                89600                            2.49                   12\n",
       "3                28200                           81.45                    6\n",
       "4               113544                           25.32                    6\n",
       "5                20400                           38.10                   12"
      ]
     },
     "execution_count": 35,
     "metadata": {},
     "output_type": "execute_result"
    }
   ],
   "source": [
    "df = pd.read_csv('d17008_Iqbal_pdf.csv')#'kartal.csv'\n",
    "df = df.sort_values(by='Item', ascending=True)\n",
    "df.index = df['Item'].values\n",
    "del df['Item']\n",
    "df.head()"
   ]
  },
  {
   "cell_type": "code",
   "execution_count": 52,
   "id": "4831c892",
   "metadata": {},
   "outputs": [
    {
     "data": {
      "text/plain": [
       "C    65\n",
       "B    28\n",
       "A     7\n",
       "Name: Class, dtype: int64"
      ]
     },
     "execution_count": 52,
     "metadata": {},
     "output_type": "execute_result"
    },
    {
     "data": {
      "image/png": "[encoded data removed]",
      "text/plain": [
       "<Figure size 432x288 with 1 Axes>"
      ]
     },
     "metadata": {
      "needs_background": "light"
     },
     "output_type": "display_data"
    }
   ],
   "source": [
    "le = preprocessing.LabelEncoder()\n",
    "\n",
    "nb = pd.DataFrame({\n",
    "    \"V+\": np.zeros(len(df.columns)), # ideal best\n",
    "    \"V-\": np.zeros(len(df.columns))  # ideal worst\n",
    "}).T\n",
    "\n",
    "dff = df.copy()\n",
    "d_f = df.copy()\n",
    "dff.head()\n",
    "\n",
    "w = [.4,.4,.2]\n",
    "\n",
    "for i in range(len(df.columns)):\n",
    "    dff.iloc[:,i] = (df.iloc[:,i] / np.sqrt(( df.iloc[:,0] ** 2 ).sum())) * w[i]\n",
    "    if i == 1 or i == 2: # non-benificial, lower value is desired, lower value is ideal best, higher value is ideal worst\n",
    "        \n",
    "        nb.iloc[0,i] = dff.iloc[:,i].min() #non-benificial - lower value ideal best\n",
    "        nb.iloc[1,i] = dff.iloc[:,i].max() #non-benificial - higher value ideal worst\n",
    "        \n",
    "        \n",
    "    else:                   # benificial, higher value is desired, higher value is ideal best, lower value is ideal worst\n",
    "        \n",
    "        nb.iloc[0,i] = dff.iloc[:,i].max() #benificial - higher value ideal best\n",
    "        nb.iloc[1,i] = dff.iloc[:,i].min() #benificial - lower value ideal worst\n",
    "\n",
    "nb.columns = df.columns\n",
    "\n",
    "temp1 = dff.copy()\n",
    "temp2 = dff.copy()\n",
    "\n",
    "for i in range(len(df.columns)):\n",
    "    temp1.iloc[:,i] = (temp1.iloc[:,i] - nb.iloc[0,i]) ** 2\n",
    "    \n",
    "\n",
    "for i in range(len(df.columns)):\n",
    "    temp2.iloc[:,i] = (temp1.iloc[:,i] - nb.iloc[1,i]) ** 2\n",
    "    \n",
    "\n",
    "dff['S+'] = 0\n",
    "dff['S-'] = 0\n",
    "\n",
    "for i in range(len(df)):\n",
    "    dff.iloc[i,-2] = np.sqrt(temp1.iloc[i,:].sum(axis = 0))\n",
    "    dff.iloc[i,-1] = np.sqrt(temp2.iloc[i,:].sum(axis = 0))\n",
    "\n",
    "\n",
    "dff['S+ + S-'] = 0\n",
    "dff['p'] = 0\n",
    "\n",
    "dff['S+ + S-'] = dff['S+'] + dff['S-']\n",
    "\n",
    "dff['p'] = dff['S-'] / dff['S+ + S-']\n",
    "\n",
    "d_f['p'] = dff['p']\n",
    "d_f = d_f.sort_values(by='p', ascending=False) # heighest P value has the top rank\n",
    "\n",
    "d_f['RunCumCost'] = d_f['p'].cumsum()\n",
    "TotSum = d_f['p'].sum()\n",
    "d_f['RunCostPerc'] = (d_f['RunCumCost']/TotSum)*100\n",
    "\n",
    "def ABC_segmentation(perc):\n",
    "\n",
    "#top A - top 20%, C - last 50% and B - between A & C\n",
    "\n",
    "    if perc <=20 :\n",
    "        return 'A'\n",
    "    elif perc > 20 and perc < 50:\n",
    "        return 'B'\n",
    "    elif perc >= 50:\n",
    "        return 'C'\n",
    "    \n",
    "d_f['Class'] = d_f['RunCostPerc'].apply(ABC_segmentation)\n",
    "ax = sns.countplot(x = d_f['Class'],data = d_f,label= 'Count')\n",
    "\n",
    "d_f['Class'].value_counts()"
   ]
  },
  {
   "cell_type": "code",
   "execution_count": 53,
   "id": "1998d50e",
   "metadata": {},
   "outputs": [
    {
     "data": {
      "text/html": [
       "<div>\n",
       "<style scoped>\n",
       "    .dataframe tbody tr th:only-of-type {\n",
       "        vertical-align: middle;\n",
       "    }\n",
       "\n",
       "    .dataframe tbody tr th {\n",
       "        vertical-align: top;\n",
       "    }\n",
       "\n",
       "    .dataframe thead th {\n",
       "        text-align: right;\n",
       "    }\n",
       "</style>\n",
       "<table border=\"1\" class=\"dataframe\">\n",
       "  <thead>\n",
       "    <tr style=\"text-align: right;\">\n",
       "      <th></th>\n",
       "      <th>Annual\\nRequirement</th>\n",
       "      <th>Average\\nUnit\\nCost\\n(Dollars)</th>\n",
       "      <th>Lead\\nTime\\n(Weeks)</th>\n",
       "      <th>p</th>\n",
       "      <th>RunCumCost</th>\n",
       "      <th>RunCostPerc</th>\n",
       "      <th>Class</th>\n",
       "    </tr>\n",
       "  </thead>\n",
       "  <tbody>\n",
       "    <tr>\n",
       "      <th>9</th>\n",
       "      <td>120000</td>\n",
       "      <td>2.21</td>\n",
       "      <td>8</td>\n",
       "      <td>0.999460</td>\n",
       "      <td>0.999460</td>\n",
       "      <td>10.388953</td>\n",
       "      <td>A</td>\n",
       "    </tr>\n",
       "    <tr>\n",
       "      <th>4</th>\n",
       "      <td>113544</td>\n",
       "      <td>25.32</td>\n",
       "      <td>6</td>\n",
       "      <td>0.361763</td>\n",
       "      <td>1.361222</td>\n",
       "      <td>14.149321</td>\n",
       "      <td>A</td>\n",
       "    </tr>\n",
       "  </tbody>\n",
       "</table>\n",
       "</div>"
      ],
      "text/plain": [
       "   Annual\\nRequirement  Average\\nUnit\\nCost\\n(Dollars)  Lead\\nTime\\n(Weeks)  \\\n",
       "9               120000                            2.21                    8   \n",
       "4               113544                           25.32                    6   \n",
       "\n",
       "          p  RunCumCost  RunCostPerc Class  \n",
       "9  0.999460    0.999460    10.388953     A  \n",
       "4  0.361763    1.361222    14.149321     A  "
      ]
     },
     "execution_count": 53,
     "metadata": {},
     "output_type": "execute_result"
    }
   ],
   "source": [
    "d_f.head(5)"
   ]
  },
  {
   "cell_type": "code",
   "execution_count": 61,
   "id": "9de72af4",
   "metadata": {},
   "outputs": [],
   "source": [
    "X = d_f.iloc[:,0:3].copy()\n",
    "y = d_f.iloc[:,-1].copy()\n",
    "y = le.fit_transform(y)\n",
    "X_train, X_test, y_train, y_test = train_test_split(X, y, test_size=0.3, random_state=42)"
   ]
  },
  {
   "cell_type": "code",
   "execution_count": 106,
   "id": "acf0b871",
   "metadata": {},
   "outputs": [
    {
     "name": "stdout",
     "output_type": "stream",
     "text": [
      "********KNN********\n",
      "test acc:  0.98\n",
      "train acc:  0.9971428571428571\n"
     ]
    }
   ],
   "source": [
    "model = KNeighborsClassifier(n_neighbors = 5, metric = 'minkowski', p=2)\n",
    "model.fit(X_train, y_train)\n",
    "y_pred = model.predict(X_test)\n",
    "print(\"********KNN********\")\n",
    "print(\"test acc: \",accuracy_score(y_test, y_pred))\n",
    "print(\"train acc: \",accuracy_score(y_train, model.predict(X_train)))"
   ]
  },
  {
   "cell_type": "code",
   "execution_count": 107,
   "id": "fdb6fc58",
   "metadata": {},
   "outputs": [
    {
     "name": "stdout",
     "output_type": "stream",
     "text": [
      "********SVC********\n",
      "train acc:  0.7342857142857143\n",
      "test acc:  0.6866666666666666\n"
     ]
    }
   ],
   "source": [
    "model = SVC(kernel = 'poly')\n",
    "model.fit(X_train, y_train)\n",
    "y_pred = model.predict(X_test)\n",
    "print(\"********SVC********\")\n",
    "print(\"train acc: \",accuracy_score(y_train, model.predict(X_train)))\n",
    "print(\"test acc: \",accuracy_score(y_test, y_pred))"
   ]
  },
  {
   "cell_type": "markdown",
   "id": "283d8b41",
   "metadata": {},
   "source": [
    "# Random Over Sampling"
   ]
  },
  {
   "cell_type": "code",
   "execution_count": 149,
   "id": "fa946089",
   "metadata": {},
   "outputs": [],
   "source": [
    "sampling_strategy = {0: 20*10, 1:30*10, 2:50*10}\n",
    "X_res, y_res = RandomOverSampler(sampling_strategy = sampling_strategy).fit_resample(d_f.iloc[:,0:3], \\\n",
    "                                                                                     le.fit_transform(d_f['Class']))\n",
    "\n",
    "X_train, X_test, y_train, y_test = train_test_split(X_res, y_res, test_size=0.2, random_state=42)"
   ]
  },
  {
   "cell_type": "code",
   "execution_count": 150,
   "id": "8314ad7c",
   "metadata": {},
   "outputs": [
    {
     "name": "stdout",
     "output_type": "stream",
     "text": [
      "********KNN********\n",
      "train acc:  1.0\n",
      "test acc:  1.0\n",
      "cv score:  1.0\n"
     ]
    }
   ],
   "source": [
    "modelKNN = KNeighborsClassifier(n_neighbors = 3, p =1)#, metric = 'minkowski', p=2)\n",
    "modelKNN.fit(X_train, y_train)\n",
    "y_pred = modelKNN.predict(X_test)\n",
    "\n",
    "scores = cross_val_score(modelKNN, X_train, y_train, cv=10)\n",
    "print(\"********KNN********\")\n",
    "print(\"train acc: \",accuracy_score(y_train, modelKNN.predict(X_train)))\n",
    "print(\"test acc: \",accuracy_score(y_test, y_pred))\n",
    "print(\"cv score: \",scores.mean())"
   ]
  },
  {
   "cell_type": "code",
   "execution_count": 151,
   "id": "7d0a8c88",
   "metadata": {},
   "outputs": [
    {
     "name": "stdout",
     "output_type": "stream",
     "text": [
      "********SVC********\n",
      "train acc:  0.69125\n",
      "test acc:  0.72\n",
      "cv score:  0.6875000000000001\n"
     ]
    }
   ],
   "source": [
    "modelSVC = SVC(kernel = 'poly')\n",
    "modelSVC.fit(X_train, y_train)\n",
    "y_pred = modelSVC.predict(X_test)\n",
    "scores = cross_val_score(modelSVC, X_train, y_train, cv=10)\n",
    "print(\"********SVC********\")\n",
    "print(\"train acc: \",accuracy_score(y_train, modelSVC.predict(X_train)))\n",
    "print(\"test acc: \",accuracy_score(y_test, y_pred))\n",
    "print(\"cv score: \",scores.mean())"
   ]
  },
  {
   "cell_type": "code",
   "execution_count": 154,
   "id": "4b162bfa",
   "metadata": {},
   "outputs": [],
   "source": [
    "d_f.to_csv(\"Classed.csv\")"
   ]
  },
  {
   "cell_type": "code",
   "execution_count": 156,
   "id": "52b01f12",
   "metadata": {},
   "outputs": [],
   "source": [
    "dff.to_csv(\"TopsisData\")"
   ]
  },
  {
   "cell_type": "code",
   "execution_count": 157,
   "id": "0b18ee14",
   "metadata": {},
   "outputs": [
    {
     "data": {
      "text/html": [
       "<div>\n",
       "<style scoped>\n",
       "    .dataframe tbody tr th:only-of-type {\n",
       "        vertical-align: middle;\n",
       "    }\n",
       "\n",
       "    .dataframe tbody tr th {\n",
       "        vertical-align: top;\n",
       "    }\n",
       "\n",
       "    .dataframe thead th {\n",
       "        text-align: right;\n",
       "    }\n",
       "</style>\n",
       "<table border=\"1\" class=\"dataframe\">\n",
       "  <thead>\n",
       "    <tr style=\"text-align: right;\">\n",
       "      <th></th>\n",
       "      <th>Annual\\nRequirement</th>\n",
       "      <th>Average\\nUnit\\nCost\\n(Dollars)</th>\n",
       "      <th>Lead\\nTime\\n(Weeks)</th>\n",
       "    </tr>\n",
       "  </thead>\n",
       "  <tbody>\n",
       "    <tr>\n",
       "      <th>V+</th>\n",
       "      <td>0.151502</td>\n",
       "      <td>0.000003</td>\n",
       "      <td>0.000003</td>\n",
       "    </tr>\n",
       "    <tr>\n",
       "      <th>V-</th>\n",
       "      <td>0.004681</td>\n",
       "      <td>0.000216</td>\n",
       "      <td>0.000010</td>\n",
       "    </tr>\n",
       "  </tbody>\n",
       "</table>\n",
       "</div>"
      ],
      "text/plain": [
       "    Annual\\nRequirement  Average\\nUnit\\nCost\\n(Dollars)  Lead\\nTime\\n(Weeks)\n",
       "V+             0.151502                        0.000003             0.000003\n",
       "V-             0.004681                        0.000216             0.000010"
      ]
     },
     "execution_count": 157,
     "metadata": {},
     "output_type": "execute_result"
    }
   ],
   "source": [
    "nb"
   ]
  },
  {
   "cell_type": "code",
   "execution_count": null,
   "id": "f23c93e4",
   "metadata": {},
   "outputs": [],
   "source": []
  }
 ],
 "metadata": {
  "kernelspec": {
   "display_name": "Python 3 (ipykernel)",
   "language": "python",
   "name": "python3"
  },
  "language_info": {
   "codemirror_mode": {
    "name": "ipython",
    "version": 3
   },
   "file_extension": ".py",
   "mimetype": "text/x-python",
   "name": "python",
   "nbconvert_exporter": "python",
   "pygments_lexer": "ipython3",
   "version": "3.9.6"
  }
 },
 "nbformat": 4,
 "nbformat_minor": 5
}
